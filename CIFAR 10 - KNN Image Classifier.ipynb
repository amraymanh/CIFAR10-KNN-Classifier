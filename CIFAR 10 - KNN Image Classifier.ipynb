{
 "cells": [
  {
   "cell_type": "code",
   "execution_count": 1,
   "metadata": {},
   "outputs": [],
   "source": [
    "# Dependencies\n",
    "from pathlib import Path\n",
    "import numpy as np\n",
    "from matplotlib import pyplot as plt\n",
    "import time"
   ]
  },
  {
   "cell_type": "code",
   "execution_count": 2,
   "metadata": {},
   "outputs": [],
   "source": [
    "# Loading Data\n",
    "def unpickle(file):\n",
    "    import pickle\n",
    "    with open(file, 'rb') as fo:\n",
    "        dict = pickle.load(fo, encoding='bytes')\n",
    "    return dict\n",
    "\n",
    "#default dtype for np.empty is np.float64 that's why I'm specifying\n",
    "training_data_all = np.empty((50000, 3072), dtype = np.uint32)\n",
    "training_labels = np.empty((50000), dtype = np.uint8)\n",
    "\n",
    "directory = Path().parent.absolute()\n",
    "\n",
    "for i in range(1, 6):\n",
    "    filepath = directory / 'Dataset/cifar-10-batches-py/data_batch_{}'.format(i)\n",
    "    dictt = unpickle(filepath)\n",
    "    training_data_all[(i-1)*10000:i*10000] = dictt[b'data']\n",
    "    training_labels[(i-1)*10000:i*10000] = np.array(dictt[b'labels'])\n",
    "filepath = directory / 'Dataset/cifar-10-batches-py/test_batch'\n",
    "\n",
    "dictt = unpickle(filepath)\n",
    "testing_data = dictt[b'data'].astype(np.uint32)\n",
    "testing_labels = np.array(dictt[b'labels']).astype(np.uint8)"
   ]
  },
  {
   "cell_type": "code",
   "execution_count": 66,
   "metadata": {},
   "outputs": [],
   "source": [
    "def predict_label(closest):\n",
    "    labels_count = np.bincount(closest) #count the labels of the closest k pics\n",
    "    # all labels are unique ? return the closest label ELSE return the label with the max count (majority vote)\n",
    "    return closest[0] if labels_count.max() == 1 else np.argmax(labels_count).astype(np.uint8)"
   ]
  },
  {
   "cell_type": "code",
   "execution_count": 3,
   "metadata": {
    "scrolled": true
   },
   "outputs": [
    {
     "name": "stdout",
     "output_type": "stream",
     "text": [
      "K = 1 \t C.V Fold # 0\n",
      "Accuracy = 0.277 \t Execution Time = 50.53125 secs\n",
      "K = 1 \t C.V Fold # 1\n",
      "Accuracy = 0.2745 \t Execution Time = 46.078125 secs\n",
      "K = 1 \t C.V Fold # 2\n",
      "Accuracy = 0.2825 \t Execution Time = 58.4375 secs\n",
      "K = 1 \t C.V Fold # 3\n",
      "Accuracy = 0.284 \t Execution Time = 45.90625 secs\n",
      "K = 1 \t C.V Fold # 4\n",
      "Accuracy = 0.2885 \t Execution Time = 60.375 secs\n",
      "K = 2 \t C.V Fold # 0\n",
      "Accuracy = 0.277 \t Execution Time = 52.34375 secs\n",
      "K = 2 \t C.V Fold # 1\n",
      "Accuracy = 0.2745 \t Execution Time = 53.40625 secs\n",
      "K = 2 \t C.V Fold # 2\n",
      "Accuracy = 0.2825 \t Execution Time = 50.015625 secs\n",
      "K = 2 \t C.V Fold # 3\n",
      "Accuracy = 0.284 \t Execution Time = 48.09375 secs\n",
      "K = 2 \t C.V Fold # 4\n",
      "Accuracy = 0.2885 \t Execution Time = 55.59375 secs\n",
      "K = 3 \t C.V Fold # 0\n",
      "Accuracy = 0.283 \t Execution Time = 45.921875 secs\n",
      "K = 3 \t C.V Fold # 1\n",
      "Accuracy = 0.2905 \t Execution Time = 57.953125 secs\n",
      "K = 3 \t C.V Fold # 2\n",
      "Accuracy = 0.291 \t Execution Time = 45.34375 secs\n",
      "K = 3 \t C.V Fold # 3\n",
      "Accuracy = 0.289 \t Execution Time = 60.234375 secs\n",
      "K = 3 \t C.V Fold # 4\n",
      "Accuracy = 0.2965 \t Execution Time = 49.25 secs\n",
      "K = 4 \t C.V Fold # 0\n",
      "Accuracy = 0.283 \t Execution Time = 47.0625 secs\n",
      "K = 4 \t C.V Fold # 1\n",
      "Accuracy = 0.287 \t Execution Time = 54.015625 secs\n",
      "K = 4 \t C.V Fold # 2\n",
      "Accuracy = 0.296 \t Execution Time = 43.9375 secs\n",
      "K = 4 \t C.V Fold # 3\n",
      "Accuracy = 0.289 \t Execution Time = 56.203125 secs\n",
      "K = 4 \t C.V Fold # 4\n",
      "Accuracy = 0.3095 \t Execution Time = 44.484375 secs\n",
      "K = 5 \t C.V Fold # 0\n",
      "Accuracy = 0.277 \t Execution Time = 48.109375 secs\n",
      "K = 5 \t C.V Fold # 1\n",
      "Accuracy = 0.2805 \t Execution Time = 50.953125 secs\n",
      "K = 5 \t C.V Fold # 2\n",
      "Accuracy = 0.3 \t Execution Time = 44.609375 secs\n",
      "K = 5 \t C.V Fold # 3\n",
      "Accuracy = 0.291 \t Execution Time = 55.265625 secs\n",
      "K = 5 \t C.V Fold # 4\n",
      "Accuracy = 0.295 \t Execution Time = 43.65625 secs\n",
      "K = 6 \t C.V Fold # 0\n",
      "Accuracy = 0.2775 \t Execution Time = 55.40625 secs\n",
      "K = 6 \t C.V Fold # 1\n",
      "Accuracy = 0.2795 \t Execution Time = 47.828125 secs\n",
      "K = 6 \t C.V Fold # 2\n",
      "Accuracy = 0.2935 \t Execution Time = 45.609375 secs\n",
      "K = 6 \t C.V Fold # 3\n",
      "Accuracy = 0.2985 \t Execution Time = 54.984375 secs\n",
      "K = 6 \t C.V Fold # 4\n",
      "Accuracy = 0.292 \t Execution Time = 44.4375 secs\n",
      "K = 7 \t C.V Fold # 0\n",
      "Accuracy = 0.2865 \t Execution Time = 52.046875 secs\n",
      "K = 7 \t C.V Fold # 1\n",
      "Accuracy = 0.278 \t Execution Time = 47.234375 secs\n",
      "K = 7 \t C.V Fold # 2\n",
      "Accuracy = 0.3 \t Execution Time = 46.3125 secs\n",
      "K = 7 \t C.V Fold # 3\n",
      "Accuracy = 0.295 \t Execution Time = 56.09375 secs\n",
      "K = 7 \t C.V Fold # 4\n",
      "Accuracy = 0.302 \t Execution Time = 44.109375 secs\n",
      "K = 8 \t C.V Fold # 0\n",
      "Accuracy = 0.286 \t Execution Time = 54.203125 secs\n",
      "K = 8 \t C.V Fold # 1\n",
      "Accuracy = 0.274 \t Execution Time = 44.53125 secs\n",
      "K = 8 \t C.V Fold # 2\n",
      "Accuracy = 0.284 \t Execution Time = 56.3125 secs\n",
      "K = 8 \t C.V Fold # 3\n",
      "Accuracy = 0.2965 \t Execution Time = 50.328125 secs\n",
      "K = 8 \t C.V Fold # 4\n",
      "Accuracy = 0.2985 \t Execution Time = 43.0625 secs\n",
      "K = 9 \t C.V Fold # 0\n",
      "Accuracy = 0.283 \t Execution Time = 54.0 secs\n",
      "K = 9 \t C.V Fold # 1\n",
      "Accuracy = 0.274 \t Execution Time = 48.59375 secs\n",
      "K = 9 \t C.V Fold # 2\n",
      "Accuracy = 0.293 \t Execution Time = 61.625 secs\n",
      "K = 9 \t C.V Fold # 3\n",
      "Accuracy = 0.2875 \t Execution Time = 52.125 secs\n",
      "K = 9 \t C.V Fold # 4\n",
      "Accuracy = 0.302 \t Execution Time = 62.890625 secs\n",
      "K = 10 \t C.V Fold # 0\n",
      "Accuracy = 0.285 \t Execution Time = 66.859375 secs\n",
      "K = 10 \t C.V Fold # 1\n",
      "Accuracy = 0.266 \t Execution Time = 59.625 secs\n",
      "K = 10 \t C.V Fold # 2\n",
      "Accuracy = 0.284 \t Execution Time = 45.859375 secs\n",
      "K = 10 \t C.V Fold # 3\n",
      "Accuracy = 0.287 \t Execution Time = 44.125 secs\n",
      "K = 10 \t C.V Fold # 4\n",
      "Accuracy = 0.3025 \t Execution Time = 43.53125 secs\n",
      "K = 11 \t C.V Fold # 0\n",
      "Accuracy = 0.279 \t Execution Time = 43.59375 secs\n",
      "K = 11 \t C.V Fold # 1\n",
      "Accuracy = 0.2665 \t Execution Time = 44.859375 secs\n",
      "K = 11 \t C.V Fold # 2\n",
      "Accuracy = 0.2855 \t Execution Time = 43.96875 secs\n",
      "K = 11 \t C.V Fold # 3\n",
      "Accuracy = 0.2955 \t Execution Time = 43.0 secs\n",
      "K = 11 \t C.V Fold # 4\n",
      "Accuracy = 0.304 \t Execution Time = 43.46875 secs\n",
      "K = 12 \t C.V Fold # 0\n",
      "Accuracy = 0.2755 \t Execution Time = 50.171875 secs\n",
      "K = 12 \t C.V Fold # 1\n",
      "Accuracy = 0.265 \t Execution Time = 44.046875 secs\n",
      "K = 12 \t C.V Fold # 2\n",
      "Accuracy = 0.2855 \t Execution Time = 43.15625 secs\n",
      "K = 12 \t C.V Fold # 3\n",
      "Accuracy = 0.2935 \t Execution Time = 42.65625 secs\n",
      "K = 12 \t C.V Fold # 4\n",
      "Accuracy = 0.3045 \t Execution Time = 43.828125 secs\n",
      "K = 13 \t C.V Fold # 0\n",
      "Accuracy = 0.278 \t Execution Time = 43.921875 secs\n",
      "K = 13 \t C.V Fold # 1\n",
      "Accuracy = 0.27 \t Execution Time = 42.40625 secs\n",
      "K = 13 \t C.V Fold # 2\n",
      "Accuracy = 0.279 \t Execution Time = 42.359375 secs\n",
      "K = 13 \t C.V Fold # 3\n",
      "Accuracy = 0.2975 \t Execution Time = 42.484375 secs\n",
      "K = 13 \t C.V Fold # 4\n",
      "Accuracy = 0.299 \t Execution Time = 42.078125 secs\n",
      "K = 14 \t C.V Fold # 0\n",
      "Accuracy = 0.28 \t Execution Time = 42.6875 secs\n",
      "K = 14 \t C.V Fold # 1\n",
      "Accuracy = 0.2665 \t Execution Time = 42.4375 secs\n",
      "K = 14 \t C.V Fold # 2\n",
      "Accuracy = 0.2725 \t Execution Time = 41.28125 secs\n",
      "K = 14 \t C.V Fold # 3\n",
      "Accuracy = 0.2955 \t Execution Time = 43.078125 secs\n",
      "K = 14 \t C.V Fold # 4\n",
      "Accuracy = 0.2945 \t Execution Time = 42.0 secs\n",
      "K = 15 \t C.V Fold # 0\n",
      "Accuracy = 0.276 \t Execution Time = 45.890625 secs\n",
      "K = 15 \t C.V Fold # 1\n",
      "Accuracy = 0.274 \t Execution Time = 48.0 secs\n",
      "K = 15 \t C.V Fold # 2\n",
      "Accuracy = 0.275 \t Execution Time = 42.796875 secs\n",
      "K = 15 \t C.V Fold # 3\n",
      "Accuracy = 0.297 \t Execution Time = 43.34375 secs\n",
      "K = 15 \t C.V Fold # 4\n",
      "Accuracy = 0.294 \t Execution Time = 42.203125 secs\n",
      "Time Elapsed = 3639.234375\n"
     ]
    }
   ],
   "source": [
    "#Hyper Parameter (K) Optimization using N-Fold Cross Validation\n",
    "#Sample training data. Sample Size = 1/5 traning data size\n",
    "training_data = training_data_all[:10000]\n",
    "size = len(training_data)\n",
    "\n",
    "maxK = 15\n",
    "\n",
    "N = 5    #Number of folds\n",
    "fold_size = size // N\n",
    "\n",
    "results = np.empty((maxK+1, N))\n",
    "\n",
    "# Euclidean Distance : (a-b)^2 = a^2 - 2.b.a + b^2\n",
    "# a represents training data, b represents validation data in the process of K optimization\n",
    "pow2 = np.sum(training_data**2, axis = 1)    # Calculate once and reuse for a^2 and b^2\n",
    "start = time.process_time()\n",
    "for k in range(1, maxK+1):\n",
    "    for i in range(N):\n",
    "        iteration_start = time.process_time()\n",
    "        print('K = {} \\t C.V Fold # {}'.format(k,i))\n",
    "        #The validation batch of the training data\n",
    "        bpow2 = pow2[(N-i-1)*fold_size:(N-i)*fold_size]    \n",
    "        b = training_data[(N-i-1)*fold_size:(N-i)*fold_size]\n",
    "        # For hiding a validation batch from training data each round using N-Fold C.V\n",
    "        apow2 = np.ma.array(pow2)\n",
    "        apow2[(N-i-1)*fold_size:(N-i)*fold_size] = np.ma.masked\n",
    "        a = np.ma.array(training_data)\n",
    "        a[(N-i-1)*fold_size:(N-i)*fold_size] = np.ma.masked\n",
    "        #calculating euclidean distance\n",
    "        bxax2 = 2 * np.ma.dot(b, a.T) #shape : (2000,10000)\n",
    "        distancesqrd = apow2 - bxax2 + bpow2[:, np.newaxis] # (10000,) + (2000,10000) + (2000,1) = (2000,10000)\n",
    "        distances = np.sqrt(distancesqrd)\n",
    "        closest_indexes = distances.argsort(axis = 1)[:, :k].astype(np.uint16) #indexes of the closest k pics\n",
    "        closest_labels = training_labels[closest_indexes] #labels of the closest k pics\n",
    "        predicted_labels = np.array(list(map(predict_label, closest_labels)))\n",
    "        results[k, i] = np.mean(predicted_labels == training_labels[(N-i-1)*fold_size:(N-i)*fold_size])\n",
    "        print('Accuracy = {} \\t Execution Time = {} secs'.format(results[k,i], time.process_time()-iteration_start))\n",
    "print('Time Elapsed = {}'.format(time.process_time() - start))"
   ]
  },
  {
   "cell_type": "code",
   "execution_count": 38,
   "metadata": {},
   "outputs": [],
   "source": [
    "mean = np.mean(results, axis = 1)\n",
    "std = np.std(results, axis = 1)"
   ]
  },
  {
   "cell_type": "code",
   "execution_count": 55,
   "metadata": {},
   "outputs": [
    {
     "data": {
      "text/plain": [
       "Text(0, 0.5, 'Cross-validation accuracy')"
      ]
     },
     "execution_count": 55,
     "metadata": {},
     "output_type": "execute_result"
    },
    {
     "data": {
      "image/png": "[encoded data removed]",
      "text/plain": [
       "<Figure size 432x288 with 1 Axes>"
      ]
     },
     "metadata": {
      "needs_background": "light"
     },
     "output_type": "display_data"
    }
   ],
   "source": [
    "x = range(1,maxK+1)\n",
    "y = results\n",
    "for x_axis, y_axis in zip(x, y):\n",
    "    plt.scatter([x_axis] * len(y_axis), y_axis, c='b')\n",
    "plt.errorbar(x, mean, std, linestyle='None', marker='^')\n",
    "plt.plot(x, mean)\n",
    "plt.xticks(x)\n",
    "plt.xlabel(\"K\")\n",
    "plt.ylabel(\"Cross-validation accuracy\")"
   ]
  },
  {
   "cell_type": "code",
   "execution_count": 64,
   "metadata": {},
   "outputs": [],
   "source": [
    "Chosen_K = 7 # Comparing between 4 and 7: 7 is chosen bec of lower std"
   ]
  },
  {
   "cell_type": "code",
   "execution_count": 69,
   "metadata": {},
   "outputs": [
    {
     "name": "stdout",
     "output_type": "stream",
     "text": [
      "Model Accuracy = 0.3358 \t Elapsed Time = 962.859375 secs\n"
     ]
    }
   ],
   "source": [
    "#Final Testing\n",
    "start = time.process_time()\n",
    "#(a-b)^2 = a^2 - 2.b.a + b^2\n",
    "a2 = np.sum(training_data_all**2, axis = 1) #(50000,)\n",
    "b2 = np.sum(testing_data**2, axis = 1) #(10000,)\n",
    "axbx2 = 2 * np.dot(testing_data, training_data_all.T) #(10000, 50000)\n",
    "d2 = a2 - axbx2 + b2[:, np.newaxis] #(50000) - (10000, 50000) + (10000) = (10000,50000)\n",
    "d = np.sqrt(d2)\n",
    "closest_indexes = d.argsort(axis = 1)[:, :Chosen_K].astype(np.uint16)\n",
    "closest_labels = training_labels[closest_indexes]\n",
    "predicted_labels = np.array(list(map(predict_label, closest_labels)))\n",
    "Accuracy = np.mean(predicted_labels == testing_labels)\n",
    "print('Model Accuracy = {} \\t Elapsed Time = {} secs'.format(Accuracy, time.process_time()-start))"
   ]
  }
 ],
 "metadata": {
  "kernelspec": {
   "display_name": "Python 3",
   "language": "python",
   "name": "python3"
  },
  "language_info": {
   "codemirror_mode": {
    "name": "ipython",
    "version": 3
   },
   "file_extension": ".py",
   "mimetype": "text/x-python",
   "name": "python",
   "nbconvert_exporter": "python",
   "pygments_lexer": "ipython3",
   "version": "3.6.10"
  }
 },
 "nbformat": 4,
 "nbformat_minor": 4
}
